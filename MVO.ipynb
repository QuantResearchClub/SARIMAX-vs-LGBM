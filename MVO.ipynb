{
 "cells": [
  {
   "cell_type": "code",
   "execution_count": 5,
   "id": "7482ff17-d487-4184-ae26-7bef8a44fb11",
   "metadata": {},
   "outputs": [],
   "source": [
    "# pip install PyPortfolioOpt"
   ]
  },
  {
   "cell_type": "code",
   "execution_count": 6,
   "id": "f9b90c0c-92f2-45ea-9e4e-7cd5532dd692",
   "metadata": {
    "tags": []
   },
   "outputs": [],
   "source": [
    "import pandas as pd\n",
    "import numpy as np\n",
    "import yfinance as yf\n",
    "import warnings\n",
    "warnings.filterwarnings('ignore')"
   ]
  },
  {
   "cell_type": "code",
   "execution_count": 7,
   "id": "268551cd-fd69-4eb8-8c29-242bb8af4169",
   "metadata": {
    "tags": []
   },
   "outputs": [
    {
     "name": "stderr",
     "output_type": "stream",
     "text": [
      "[*********************100%%**********************]  10 of 10 completed\n",
      "[*********************100%%**********************]  10 of 10 completed\n"
     ]
    }
   ],
   "source": [
    "#%% extract data\n",
    "start_date = '2024-01-01'\n",
    "split_date = '2024-06-30'\n",
    "end_date = '2024-07-31'\n",
    "tickers = ['AAPL','MSFT','NVDA','GOOG','AMZN','META','TSM','LLY','TSLA','AVGO']\n",
    "\n",
    "train = yf.download(tickers, start=start_date, end=split_date)['Close']\n",
    "test = yf.download(tickers, start=split_date, end=end_date)['Close']\n",
    "test_ret = test.pct_change()"
   ]
  },
  {
   "cell_type": "code",
   "execution_count": 8,
   "id": "78c5e0a8-4964-45dd-8f51-2cdeb512fb41",
   "metadata": {
    "tags": []
   },
   "outputs": [],
   "source": [
    "# calculate expected returns and covariance matrix\n",
    "from pypfopt.expected_returns import mean_historical_return\n",
    "from pypfopt.risk_models import CovarianceShrinkage\n",
    "\n",
    "mu = mean_historical_return(train)\n",
    "S = CovarianceShrinkage(train).ledoit_wolf()"
   ]
  },
  {
   "cell_type": "code",
   "execution_count": 9,
   "id": "240a5457-2222-49dd-b27d-46b8f8b99487",
   "metadata": {
    "tags": []
   },
   "outputs": [
    {
     "name": "stdout",
     "output_type": "stream",
     "text": [
      "OrderedDict([('AAPL', 0.0), ('AMZN', 0.0), ('AVGO', 0.0), ('GOOG', 0.04042), ('LLY', 0.19398), ('META', 0.0), ('MSFT', 0.0), ('NVDA', 0.76559), ('TSLA', 0.0), ('TSM', 0.0)])\n"
     ]
    }
   ],
   "source": [
    "# calculate weights of efficient portfolio\n",
    "from pypfopt.efficient_frontier import EfficientFrontier\n",
    "from pypfopt import objective_functions\n",
    "\n",
    "ef = EfficientFrontier(mu, S)\n",
    "weights = ef.max_sharpe()\n",
    "weights = ef.clean_weights()\n",
    "print(weights)"
   ]
  },
  {
   "cell_type": "code",
   "execution_count": 10,
   "id": "0e3db4d8-26fc-4670-b254-66925258b2eb",
   "metadata": {
    "tags": []
   },
   "outputs": [
    {
     "name": "stdout",
     "output_type": "stream",
     "text": [
      "{'GOOG': 221, 'LLY': 214, 'NVDA': 6197}\n"
     ]
    }
   ],
   "source": [
    "# using these weights to indicate how many shares of each asset to buy, assuming portfolio of $1,000,000\n",
    "from pypfopt.discrete_allocation import DiscreteAllocation, get_latest_prices\n",
    "\n",
    "latest_prices = get_latest_prices(train)\n",
    "da = DiscreteAllocation(weights, latest_prices, total_portfolio_value=1000000)\n",
    "allocation, leftover = da.lp_portfolio()\n",
    "print(allocation)"
   ]
  },
  {
   "cell_type": "code",
   "execution_count": 13,
   "id": "cdef624f-ba8f-4a49-a0f0-4075befac587",
   "metadata": {
    "tags": []
   },
   "outputs": [],
   "source": [
    "def rough_weight_ret(data, weights):\n",
    "    # Make a copy of the original data\n",
    "    data_copy = data.copy()\n",
    "\n",
    "    # calculate returns of test portfolio, using rough weights\n",
    "    for ticker, weight in weights.items():\n",
    "        if ticker in data_copy.columns:\n",
    "            data_copy[ticker] = data_copy[ticker] * weight\n",
    "\n",
    "    data_copy['trade'] = data_copy.sum(axis=1)\n",
    "    data_copy['return'] = data.sum(axis=1)/10\n",
    "    \n",
    "    # convert to log returns\n",
    "    data_copy['trade'] = np.log( 1 + data_copy['trade'])\n",
    "    data_copy['return'] = np.log( 1 + data_copy['return'])\n",
    "\n",
    "    # calculate returns over test period\n",
    "    annual_ret = np.exp(data_copy['trade'].sum())-1\n",
    "    print('------using rough weights------')\n",
    "    print('regular return: ',annual_ret)\n",
    "\n",
    "    # calculate standard deviation over same period\n",
    "    annual_std = (np.exp(data_copy['trade'])-1).std()\n",
    "    print('regular std: ', annual_std)\n",
    "\n",
    "    # calculate sharpe ratio\n",
    "    sr = annual_ret/ annual_std\n",
    "    print(\"Sharpe Ratio is: \", sr)\n",
    "    print('--------------------------------')\n",
    "    \n",
    "    data_copy.to_csv('C:\\\\Users\\\\E1124957\\\\Dropbox\\\\NUS\\\\DSA5205\\\\project\\\\MVO\\\\MVO.csv')\n",
    "    data_copy[[\"return\",\"trade\"]].cumsum().plot(figsize=(10,3))"
   ]
  },
  {
   "cell_type": "raw",
   "id": "f7b6eea9-05cb-40e4-8972-3e857d61de59",
   "metadata": {
    "tags": []
   },
   "source": [
    "def discrete_ret(data, allocation):\n",
    "    # Make a copy of the original data\n",
    "    data_copy = data.copy()\n",
    "    \n",
    "    # calculate allocation of test portfolio, using discrete allocation\n",
    "    for column in data.columns:\n",
    "        if column in allocation:\n",
    "            data_copy[column] = data_copy[column]*allocation[column]\n",
    "        else:\n",
    "            data_copy[column] = data_copy[column]*0\n",
    "\n",
    "    # calculate portfolio size\n",
    "    data_copy['balance'] = data_copy.sum(axis=1)\n",
    "\n",
    "    # calculate portfolio (log) returns\n",
    "    data_copy['ret'] = np.log ( 1 + data_copy['balance'].pct_change())\n",
    "\n",
    "    # calculate returns over 1 year test period\n",
    "    annual_ret = np.exp(data_copy['ret'].sum())-1\n",
    "    print('------using discrete allocation------')\n",
    "    print('regular return: ',annual_ret)\n",
    "\n",
    "    # calculate standard deviation over same period\n",
    "    annual_std = (np.exp(data_copy['ret'])-1).std()\n",
    "    print('regular std: ', annual_std)\n",
    "\n",
    "    # calculate sharpe ratio\n",
    "    sr = annual_ret/ annual_std\n",
    "    print(\"Sharpe Ratio is: \", sr)\n",
    "    print('--------------------------------')\n",
    "    \n",
    "    data_copy[[\"ret\"]].cumsum().plot(figsize=(10,3))"
   ]
  },
  {
   "cell_type": "code",
   "execution_count": 14,
   "id": "5f20dc83-e1e6-4fde-8745-054883cad852",
   "metadata": {},
   "outputs": [
    {
     "name": "stdout",
     "output_type": "stream",
     "text": [
      "------using rough weights------\n",
      "regular return:  -0.11243958649928998\n",
      "regular std:  0.026371767874025825\n",
      "Sharpe Ratio is:  -4.263634771714883\n",
      "--------------------------------\n"
     ]
    },
    {
     "data": {
      "image/png": "[encoded data removed]",
      "text/plain": [
       "<Figure size 1000x300 with 1 Axes>"
      ]
     },
     "metadata": {},
     "output_type": "display_data"
    }
   ],
   "source": [
    "rough_weight_ret(test_ret, weights)\n",
    "#discrete_ret(test, allocation)"
   ]
  },
  {
   "cell_type": "code",
   "execution_count": null,
   "id": "a2efdab8-9acb-4b24-8633-8e19992b6f27",
   "metadata": {},
   "outputs": [],
   "source": []
  }
 ],
 "metadata": {
  "kernelspec": {
   "display_name": "Python 3 (ipykernel)",
   "language": "python",
   "name": "python3"
  },
  "language_info": {
   "codemirror_mode": {
    "name": "ipython",
    "version": 3
   },
   "file_extension": ".py",
   "mimetype": "text/x-python",
   "name": "python",
   "nbconvert_exporter": "python",
   "pygments_lexer": "ipython3",
   "version": "3.11.7"
  }
 },
 "nbformat": 4,
 "nbformat_minor": 5
}
